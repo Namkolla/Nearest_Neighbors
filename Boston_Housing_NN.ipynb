{
 "cells": [
  {
   "cell_type": "markdown",
   "metadata": {},
   "source": [
    "# Boston housing data & Nearest-Neighbors"
   ]
  },
  {
   "cell_type": "markdown",
   "metadata": {},
   "source": [
    "---\n",
    "\n",
    "## Introduction\n",
    "\n",
    "For this analysis, I build a nearest neighbors algorithm from scratch to predict housing values using the Boston Housing Prices Data Set. The report includes: \n",
    "- Exploratory data analysis \n",
    "- Cleaning & Wrangling \n",
    "- Splitting train and test data\n",
    "- Creating a basic model based on averages and using RMSE for evaluation\n",
    "- Writing a distance function\n",
    "- Writing a nearest-neighbors function\n",
    "- Optimizing the function\n",
    "\n",
    "This data used to be housed by [UCI Machine Learning Repository](http://archive.ics.uci.edu/ml/datasets/Housing), but it is not housed there any more. You can read about it at [Kaggle](https://www.kaggle.com/vikrishnan/boston-house-prices) and at the [University of Toronto](https://www.cs.toronto.edu/~delve/data/boston/bostonDetail.html). "
   ]
  },
  {
   "cell_type": "code",
   "execution_count": 2,
   "metadata": {
    "collapsed": true
   },
   "outputs": [],
   "source": [
    "import IPython\n",
    "import numpy as np\n",
    "import scipy as sp\n",
    "import pandas as pd\n",
    "import matplotlib\n",
    "import sklearn\n",
    "\n",
    "import warnings\n",
    "warnings.filterwarnings('ignore')"
   ]
  },
  {
   "cell_type": "code",
   "execution_count": 3,
   "metadata": {
    "collapsed": true
   },
   "outputs": [],
   "source": [
    "from sklearn.datasets import load_boston\n",
    "bdata = load_boston()"
   ]
  },
  {
   "cell_type": "markdown",
   "metadata": {},
   "source": [
    "The following commands will provide some basic information about the shape of the data:"
   ]
  },
  {
   "cell_type": "code",
   "execution_count": 4,
   "metadata": {},
   "outputs": [
    {
     "name": "stdout",
     "output_type": "stream",
     "text": [
      "<built-in method keys of Bunch object at 0x1159a86d0>\n",
      "['CRIM' 'ZN' 'INDUS' 'CHAS' 'NOX' 'RM' 'AGE' 'DIS' 'RAD' 'TAX' 'PTRATIO'\n",
      " 'B' 'LSTAT']\n",
      "(506, 13)\n",
      "(506,)\n",
      "Boston House Prices dataset\n",
      "===========================\n",
      "\n",
      "Notes\n",
      "------\n",
      "Data Set Characteristics:  \n",
      "\n",
      "    :Number of Instances: 506 \n",
      "\n",
      "    :Number of Attributes: 13 numeric/categorical predictive\n",
      "    \n",
      "    :Median Value (attribute 14) is usually the target\n",
      "\n",
      "    :Attribute Information (in order):\n",
      "        - CRIM     per capita crime rate by town\n",
      "        - ZN       proportion of residential land zoned for lots over 25,000 sq.ft.\n",
      "        - INDUS    proportion of non-retail business acres per town\n",
      "        - CHAS     Charles River dummy variable (= 1 if tract bounds river; 0 otherwise)\n",
      "        - NOX      nitric oxides concentration (parts per 10 million)\n",
      "        - RM       average number of rooms per dwelling\n",
      "        - AGE      proportion of owner-occupied units built prior to 1940\n",
      "        - DIS      weighted distances to five Boston employment centres\n",
      "        - RAD      index of accessibility to radial highways\n",
      "        - TAX      full-value property-tax rate per $10,000\n",
      "        - PTRATIO  pupil-teacher ratio by town\n",
      "        - B        1000(Bk - 0.63)^2 where Bk is the proportion of blacks by town\n",
      "        - LSTAT    % lower status of the population\n",
      "        - MEDV     Median value of owner-occupied homes in $1000's\n",
      "\n",
      "    :Missing Attribute Values: None\n",
      "\n",
      "    :Creator: Harrison, D. and Rubinfeld, D.L.\n",
      "\n",
      "This is a copy of UCI ML housing dataset.\n",
      "http://archive.ics.uci.edu/ml/datasets/Housing\n",
      "\n",
      "\n",
      "This dataset was taken from the StatLib library which is maintained at Carnegie Mellon University.\n",
      "\n",
      "The Boston house-price data of Harrison, D. and Rubinfeld, D.L. 'Hedonic\n",
      "prices and the demand for clean air', J. Environ. Economics & Management,\n",
      "vol.5, 81-102, 1978.   Used in Belsley, Kuh & Welsch, 'Regression diagnostics\n",
      "...', Wiley, 1980.   N.B. Various transformations are used in the table on\n",
      "pages 244-261 of the latter.\n",
      "\n",
      "The Boston house-price data has been used in many machine learning papers that address regression\n",
      "problems.   \n",
      "     \n",
      "**References**\n",
      "\n",
      "   - Belsley, Kuh & Welsch, 'Regression diagnostics: Identifying Influential Data and Sources of Collinearity', Wiley, 1980. 244-261.\n",
      "   - Quinlan,R. (1993). Combining Instance-Based and Model-Based Learning. In Proceedings on the Tenth International Conference of Machine Learning, 236-243, University of Massachusetts, Amherst. Morgan Kaufmann.\n",
      "   - many more! (see http://archive.ics.uci.edu/ml/datasets/Housing)\n",
      "\n"
     ]
    }
   ],
   "source": [
    "print(bdata.keys)\n",
    "print(bdata.feature_names)\n",
    "print(bdata.data.shape)\n",
    "print(bdata.target.shape)\n",
    "# uncomment the following if you want to see a lengthy description of the dataset\n",
    "print(bdata.DESCR)"
   ]
  },
  {
   "cell_type": "markdown",
   "metadata": {},
   "source": [
    "---\n",
    "\n",
    "## Part 1: Descriptive analysis\n",
    "\n",
    "### 1.1: Histogram of housing prices\n",
    "\n",
    "Below you will find some code to make a basic histogram of median housing prices (the \"target\" variable) for my dataset.  "
   ]
  },
  {
   "cell_type": "code",
   "execution_count": 5,
   "metadata": {},
   "outputs": [
    {
     "data": {
      "image/png": "[encoded data removed]",
      "text/plain": [
       "<matplotlib.figure.Figure at 0x105fe7e48>"
      ]
     },
     "metadata": {},
     "output_type": "display_data"
    }
   ],
   "source": [
    "%matplotlib inline  \n",
    "import matplotlib.pyplot as plt \n",
    "\n",
    "fig1 = plt.figure(facecolor='white')\n",
    "ax1 = plt.axes(frameon=True)\n",
    "plt.hist(bdata.target,bins=range(0,51,1),color=\"green\",alpha=0.5)\n",
    "plt.xlabel('Median value of homes (in $1000s)')\n",
    "plt.ylabel('Number of suburbs/towns')\n",
    "ax1.spines['right'].set_visible(False)\n",
    "ax1.spines['top'].set_visible(False)"
   ]
  },
  {
   "cell_type": "markdown",
   "metadata": {},
   "source": [
    "### 1.2: Scatter plot of housing prices and crime\n",
    "\n",
    "Now I use matplotlib to create a scatter plot that shows the relationship between the median value of the home (y-axis) and the per-capita crime rate (x-axis)."
   ]
  },
  {
   "cell_type": "code",
   "execution_count": 6,
   "metadata": {
    "collapsed": true
   },
   "outputs": [],
   "source": [
    "#bdata({'feature_names':'CRIM')\n",
    "df = pd.DataFrame(bdata.data)"
   ]
  },
  {
   "cell_type": "code",
   "execution_count": 7,
   "metadata": {},
   "outputs": [
    {
     "name": "stdout",
     "output_type": "stream",
     "text": [
      "        0     1     2    3      4      5     6       7    8      9     10  \\\n",
      "0  0.00632  18.0  2.31  0.0  0.538  6.575  65.2  4.0900  1.0  296.0  15.3   \n",
      "1  0.02731   0.0  7.07  0.0  0.469  6.421  78.9  4.9671  2.0  242.0  17.8   \n",
      "2  0.02729   0.0  7.07  0.0  0.469  7.185  61.1  4.9671  2.0  242.0  17.8   \n",
      "3  0.03237   0.0  2.18  0.0  0.458  6.998  45.8  6.0622  3.0  222.0  18.7   \n",
      "4  0.06905   0.0  2.18  0.0  0.458  7.147  54.2  6.0622  3.0  222.0  18.7   \n",
      "\n",
      "       11    12  \n",
      "0  396.90  4.98  \n",
      "1  396.90  9.14  \n",
      "2  392.83  4.03  \n",
      "3  394.63  2.94  \n",
      "4  396.90  5.33  \n"
     ]
    }
   ],
   "source": [
    "feat_list = bdata.feature_names.tolist()\n",
    "print(df.head(5))"
   ]
  },
  {
   "cell_type": "code",
   "execution_count": 8,
   "metadata": {},
   "outputs": [
    {
     "data": {
      "text/html": [
       "<div>\n",
       "<style>\n",
       "    .dataframe thead tr:only-child th {\n",
       "        text-align: right;\n",
       "    }\n",
       "\n",
       "    .dataframe thead th {\n",
       "        text-align: left;\n",
       "    }\n",
       "\n",
       "    .dataframe tbody tr th {\n",
       "        vertical-align: top;\n",
       "    }\n",
       "</style>\n",
       "<table border=\"1\" class=\"dataframe\">\n",
       "  <thead>\n",
       "    <tr style=\"text-align: right;\">\n",
       "      <th></th>\n",
       "      <th>CRIM</th>\n",
       "      <th>ZN</th>\n",
       "      <th>INDUS</th>\n",
       "      <th>CHAS</th>\n",
       "      <th>NOX</th>\n",
       "      <th>RM</th>\n",
       "      <th>AGE</th>\n",
       "      <th>DIS</th>\n",
       "      <th>RAD</th>\n",
       "      <th>TAX</th>\n",
       "      <th>PTRATIO</th>\n",
       "      <th>B</th>\n",
       "      <th>LSTAT</th>\n",
       "    </tr>\n",
       "  </thead>\n",
       "  <tbody>\n",
       "    <tr>\n",
       "      <th>0</th>\n",
       "      <td>0.00632</td>\n",
       "      <td>18.0</td>\n",
       "      <td>2.31</td>\n",
       "      <td>0.0</td>\n",
       "      <td>0.538</td>\n",
       "      <td>6.575</td>\n",
       "      <td>65.2</td>\n",
       "      <td>4.0900</td>\n",
       "      <td>1.0</td>\n",
       "      <td>296.0</td>\n",
       "      <td>15.3</td>\n",
       "      <td>396.90</td>\n",
       "      <td>4.98</td>\n",
       "    </tr>\n",
       "    <tr>\n",
       "      <th>1</th>\n",
       "      <td>0.02731</td>\n",
       "      <td>0.0</td>\n",
       "      <td>7.07</td>\n",
       "      <td>0.0</td>\n",
       "      <td>0.469</td>\n",
       "      <td>6.421</td>\n",
       "      <td>78.9</td>\n",
       "      <td>4.9671</td>\n",
       "      <td>2.0</td>\n",
       "      <td>242.0</td>\n",
       "      <td>17.8</td>\n",
       "      <td>396.90</td>\n",
       "      <td>9.14</td>\n",
       "    </tr>\n",
       "    <tr>\n",
       "      <th>2</th>\n",
       "      <td>0.02729</td>\n",
       "      <td>0.0</td>\n",
       "      <td>7.07</td>\n",
       "      <td>0.0</td>\n",
       "      <td>0.469</td>\n",
       "      <td>7.185</td>\n",
       "      <td>61.1</td>\n",
       "      <td>4.9671</td>\n",
       "      <td>2.0</td>\n",
       "      <td>242.0</td>\n",
       "      <td>17.8</td>\n",
       "      <td>392.83</td>\n",
       "      <td>4.03</td>\n",
       "    </tr>\n",
       "    <tr>\n",
       "      <th>3</th>\n",
       "      <td>0.03237</td>\n",
       "      <td>0.0</td>\n",
       "      <td>2.18</td>\n",
       "      <td>0.0</td>\n",
       "      <td>0.458</td>\n",
       "      <td>6.998</td>\n",
       "      <td>45.8</td>\n",
       "      <td>6.0622</td>\n",
       "      <td>3.0</td>\n",
       "      <td>222.0</td>\n",
       "      <td>18.7</td>\n",
       "      <td>394.63</td>\n",
       "      <td>2.94</td>\n",
       "    </tr>\n",
       "    <tr>\n",
       "      <th>4</th>\n",
       "      <td>0.06905</td>\n",
       "      <td>0.0</td>\n",
       "      <td>2.18</td>\n",
       "      <td>0.0</td>\n",
       "      <td>0.458</td>\n",
       "      <td>7.147</td>\n",
       "      <td>54.2</td>\n",
       "      <td>6.0622</td>\n",
       "      <td>3.0</td>\n",
       "      <td>222.0</td>\n",
       "      <td>18.7</td>\n",
       "      <td>396.90</td>\n",
       "      <td>5.33</td>\n",
       "    </tr>\n",
       "  </tbody>\n",
       "</table>\n",
       "</div>"
      ],
      "text/plain": [
       "      CRIM    ZN  INDUS  CHAS    NOX     RM   AGE     DIS  RAD    TAX  \\\n",
       "0  0.00632  18.0   2.31   0.0  0.538  6.575  65.2  4.0900  1.0  296.0   \n",
       "1  0.02731   0.0   7.07   0.0  0.469  6.421  78.9  4.9671  2.0  242.0   \n",
       "2  0.02729   0.0   7.07   0.0  0.469  7.185  61.1  4.9671  2.0  242.0   \n",
       "3  0.03237   0.0   2.18   0.0  0.458  6.998  45.8  6.0622  3.0  222.0   \n",
       "4  0.06905   0.0   2.18   0.0  0.458  7.147  54.2  6.0622  3.0  222.0   \n",
       "\n",
       "   PTRATIO       B  LSTAT  \n",
       "0     15.3  396.90   4.98  \n",
       "1     17.8  396.90   9.14  \n",
       "2     17.8  392.83   4.03  \n",
       "3     18.7  394.63   2.94  \n",
       "4     18.7  396.90   5.33  "
      ]
     },
     "execution_count": 8,
     "metadata": {},
     "output_type": "execute_result"
    }
   ],
   "source": [
    "df.columns=feat_list\n",
    "df.head(5)"
   ]
  },
  {
   "cell_type": "code",
   "execution_count": 9,
   "metadata": {},
   "outputs": [
    {
     "data": {
      "image/png": "[encoded data removed]",
      "text/plain": [
       "<matplotlib.figure.Figure at 0x1159ae908>"
      ]
     },
     "metadata": {},
     "output_type": "display_data"
    }
   ],
   "source": [
    "fig2 = plt.figure(facecolor='white')\n",
    "ax2 = plt.axes(frameon=True)\n",
    "plt.scatter(df['CRIM'],bdata.target,color=\"red\",s=20,alpha=0.2)\n",
    "plt.xlabel('Crime rate per capita')\n",
    "plt.ylabel('Median value of homes (in $1000s)')\n",
    "ax2.spines['right'].set_visible(False)\n",
    "ax2.spines['top'].set_visible(False)"
   ]
  },
  {
   "cell_type": "markdown",
   "metadata": {},
   "source": [
    "### 1.3: Histogram of housing prices, faceted by being near the Charles River"
   ]
  },
  {
   "cell_type": "code",
   "execution_count": 10,
   "metadata": {},
   "outputs": [
    {
     "name": "stdout",
     "output_type": "stream",
     "text": [
      "# of towns not bordering Charles River is  471\n",
      "# of towns bordering Charles River is  35\n"
     ]
    },
    {
     "data": {
      "image/png": "[encoded data removed]",
      "text/plain": [
       "<matplotlib.figure.Figure at 0x1159bd128>"
      ]
     },
     "metadata": {},
     "output_type": "display_data"
    }
   ],
   "source": [
    "print('# of towns not bordering Charles River is ',sum(df['CHAS']==0))\n",
    "print('# of towns bordering Charles River is ',sum(df['CHAS']==1))\n",
    "\n",
    "hvals_nocharles = bdata.target[df['CHAS']==0]\n",
    "hvals_charles = bdata.target[df['CHAS']==1]\n",
    "\n",
    "ax3 = plt.axes(frameon=True)\n",
    "ax3.spines['right'].set_visible(False)\n",
    "ax3.spines['top'].set_visible(False)\n",
    "\n",
    "bins = np.linspace(0, 51, 51)\n",
    "plt.hist(hvals_nocharles, bins, alpha=0.5, label='Not bordering Charles')\n",
    "plt.hist(hvals_charles, bins, alpha=0.5, label='Bordering Charles')\n",
    "plt.xlabel('Median value of homes (in $1000s)')\n",
    "plt.ylabel('Number of Boston suburbs/towns')\n",
    "plt.legend(loc='upper right')\n",
    "plt.show()"
   ]
  },
  {
   "cell_type": "markdown",
   "metadata": {},
   "source": [
    "---\n",
    "\n",
    "## Part 2: Experimental Setup\n",
    "\n",
    "The goal of the next few sections is to design an experiment to predict the median home value for an instance in the data.\n",
    "\n",
    "### 2.1: Root Mean Squared Error for a list of numbers"
   ]
  },
  {
   "cell_type": "code",
   "execution_count": 11,
   "metadata": {},
   "outputs": [
    {
     "data": {
      "text/plain": [
       "2.0816659994661326"
      ]
     },
     "execution_count": 11,
     "metadata": {},
     "output_type": "execute_result"
    }
   ],
   "source": [
    "predictions = [2,2,3]\n",
    "yvalues = [0,2,6]\n",
    "\n",
    "def compute_rmse(preds, yvals):\n",
    "    numerator = 0\n",
    "    for x in range(0,len(preds)):\n",
    "        sqrd = (preds[x]-yvals[x])**2\n",
    "        numerator += sqrd\n",
    "    rmse = (numerator/len(preds))**0.5\n",
    "    return rmse\n",
    "    \n",
    "compute_rmse(predictions,yvalues)"
   ]
  },
  {
   "cell_type": "markdown",
   "metadata": {},
   "source": [
    "### 2.2: Divide data into training and testing datasets\n",
    "\n",
    "66% of the data is randomly selected for training, and the remaining 34% is used for testing."
   ]
  },
  {
   "cell_type": "code",
   "execution_count": 12,
   "metadata": {
    "collapsed": true
   },
   "outputs": [],
   "source": [
    "import random\n",
    "np.random.seed(seed=13579)"
   ]
  },
  {
   "cell_type": "code",
   "execution_count": 13,
   "metadata": {},
   "outputs": [
    {
     "name": "stdout",
     "output_type": "stream",
     "text": [
      "336\n",
      "170\n"
     ]
    }
   ],
   "source": [
    "# create one data frame\n",
    "df['MEDV']=bdata.target\n",
    "\n",
    "df['rand'] = df.apply(lambda row: random.random(), axis=1)\n",
    "df['train'] = df['rand']>.33\n",
    "\n",
    "df_train = df[df['train']==True]\n",
    "df_test = df[df['train']==False]\n",
    "\n",
    "print(len(df_train))\n",
    "print(len(df_test))"
   ]
  },
  {
   "cell_type": "code",
   "execution_count": 14,
   "metadata": {
    "collapsed": true
   },
   "outputs": [],
   "source": [
    "df_train = df_train.reset_index()\n",
    "df_test = df_test.reset_index()"
   ]
  },
  {
   "cell_type": "markdown",
   "metadata": {},
   "source": [
    "### 2.3 Use a very bad baseline for prediction, and compute RMSE\n",
    "\n",
    "First I build a model that predicts, for every observation x_i, that the median home value is the average (mean) of the median values for all instances in the training set. I compute the RMSE on the training set ad the test data set  (using the model I trained on the training set!). I expect RMSE for testing dataset to be  greater than the training data set because this poor model carried over the average of the training data without taking the new property values in the test dataset into the calculation of the mean, much less the impact of other features."
   ]
  },
  {
   "cell_type": "code",
   "execution_count": 15,
   "metadata": {
    "collapsed": true
   },
   "outputs": [],
   "source": [
    "def bad_medv_predictor(home_values):\n",
    "    avg_home_value = np.mean(home_values)\n",
    "    predicted_home_values = [avg_home_value] * len(home_values)\n",
    "    return predicted_home_values"
   ]
  },
  {
   "cell_type": "code",
   "execution_count": 16,
   "metadata": {},
   "outputs": [
    {
     "name": "stdout",
     "output_type": "stream",
     "text": [
      "RMSE on training data is:  9.363544545988491\n"
     ]
    }
   ],
   "source": [
    "predicted_bvalues = bad_medv_predictor(df_train['MEDV'])\n",
    "rmse_train = compute_rmse(predicted_bvalues, df_train['MEDV'].tolist())\n",
    "print('RMSE on training data is: ', rmse_train)"
   ]
  },
  {
   "cell_type": "code",
   "execution_count": 17,
   "metadata": {},
   "outputs": [
    {
     "data": {
      "text/plain": [
       "170"
      ]
     },
     "execution_count": 17,
     "metadata": {},
     "output_type": "execute_result"
    }
   ],
   "source": [
    "len(df_test['MEDV'])"
   ]
  },
  {
   "cell_type": "code",
   "execution_count": 18,
   "metadata": {},
   "outputs": [
    {
     "name": "stdout",
     "output_type": "stream",
     "text": [
      "RMSE on test data is:  8.832744730471072\n"
     ]
    }
   ],
   "source": [
    "avg_home_value2 = predicted_bvalues[0]\n",
    "predicted_bvalues_shortened = [avg_home_value2] * len(df_test['MEDV'])\n",
    "rmse_test = compute_rmse(predicted_bvalues_shortened, df_test['MEDV'].tolist())\n",
    "print('RMSE on test data is: ', rmse_test)"
   ]
  },
  {
   "cell_type": "markdown",
   "metadata": {},
   "source": [
    "*The RMSE for the test data set is lower than the RMSE for the training data which is not what I expected, but we can still do better!*"
   ]
  },
  {
   "cell_type": "markdown",
   "metadata": {},
   "source": [
    "---\n",
    "\n",
    "## Part 3: Nearest Neighbors\n"
   ]
  },
  {
   "cell_type": "markdown",
   "metadata": {},
   "source": [
    "### 3.1: Nearest Neighbors: Distance function\n",
    "Now I build a machine learning algorithm to beat the \"Average Value\" baseline computed above. First I need to create a distance metric to measure the distance (and similarity) between two instances. Below is a generic function to compute the L-Norm distance (called the [*p*-norm](http://en.wikipedia.org/wiki/Norm_(mathematics) distance on Wikipedia)."
   ]
  },
  {
   "cell_type": "code",
   "execution_count": 19,
   "metadata": {
    "collapsed": true
   },
   "outputs": [],
   "source": [
    "def distance(x1,x2,L):\n",
    "    #your code here\n",
    "    x1 = np.array(x1)\n",
    "    x2 = np.array(x2)\n",
    "    #dist = (sum((x2-x1) ** L)** (1/L))\n",
    "    dist = (sum([(b-a) ** L for a, b in zip (x1,x2)])** (1/L)) \n",
    "    return dist"
   ]
  },
  {
   "cell_type": "code",
   "execution_count": 20,
   "metadata": {},
   "outputs": [
    {
     "data": {
      "text/plain": [
       "5.0"
      ]
     },
     "execution_count": 20,
     "metadata": {},
     "output_type": "execute_result"
    }
   ],
   "source": [
    "distance((3,4),(6,8),2)"
   ]
  },
  {
   "cell_type": "markdown",
   "metadata": {},
   "source": [
    "### 3.2: Basic Nearest Neighbor algorithm\n",
    "\n",
    "Now things get fun. Below I implement a basic nearest neighbor algorithm from scratch. My simple model uses two input features (CRIM and RM) and a single output (MEDV). In other words, I am modelling the relationship between median home value and crime rates and house size.\n",
    "\n",
    "I use my training data to \"fit\" your model. Note that with Nearest Neighbors there is no real \"training\"; I'm only keeping my training data in memory. The following function predicts, for each instance in the testing data, the median home value using the nearest neighbor algorithm.  Since this is a small dataset, I simply compare my test instance to every instance in the training set, and return the MEDV value of the closest training instance. My function takes L as an input, where L is passed to the distance function."
   ]
  },
  {
   "cell_type": "code",
   "execution_count": 21,
   "metadata": {
    "collapsed": true
   },
   "outputs": [],
   "source": [
    "import time\n",
    "def nneighbor(training_df, test_df, L):\n",
    "    start_time = time.time()\n",
    "    \n",
    "    test_df['PRED_MEDV'] = \"\"\n",
    "    test_narrow = test_df[['CRIM','RM']]\n",
    "    train_narrow = training_df[['CRIM','RM']]\n",
    "    \n",
    "    # looping through data for which we want to predict MEDV (i.e. test data)\n",
    "    for index1, row1 in test_narrow.iterrows():\n",
    "        all_dist = []\n",
    "        #print(np.asarray(row1))\n",
    "        \n",
    "        # looping through training data to find nearest neighbor\n",
    "        for index2, row2 in train_narrow.iterrows(): \n",
    "            #print(np.asarray(row2))\n",
    "            dist_val = distance(row2, row1, L)\n",
    "            all_dist.append(dist_val)\n",
    "        \n",
    "        target_ind = all_dist.index(min(all_dist))\n",
    "        predicted_medv = training_df['MEDV'].values[target_ind]\n",
    "        test_df.loc[index1,'PRED_MEDV'] = predicted_medv  \n",
    "    print(\"Time taken: \" + str(round(time.time() - start_time,2)) + \" seconds\")\n",
    "    return test_df"
   ]
  },
  {
   "cell_type": "code",
   "execution_count": 22,
   "metadata": {},
   "outputs": [
    {
     "name": "stdout",
     "output_type": "stream",
     "text": [
      "Time taken: 4.07 seconds\n",
      "   index     CRIM    ZN  INDUS  CHAS    NOX     RM   AGE     DIS  RAD    TAX  \\\n",
      "0      4  0.06905   0.0   2.18   0.0  0.458  7.147  54.2  6.0622  3.0  222.0   \n",
      "1      6  0.08829  12.5   7.87   0.0  0.524  6.012  66.6  5.5605  5.0  311.0   \n",
      "2      7  0.14455  12.5   7.87   0.0  0.524  6.172  96.1  5.9505  5.0  311.0   \n",
      "3      9  0.17004  12.5   7.87   0.0  0.524  6.004  85.9  6.5921  5.0  311.0   \n",
      "\n",
      "   PTRATIO       B  LSTAT  MEDV      rand  train PRED_MEDV  \n",
      "0     18.7  396.90   5.33  36.2  0.065624  False      37.3  \n",
      "1     15.2  395.60  12.43  22.9  0.267174  False      21.7  \n",
      "2     15.2  396.90  19.15  27.1  0.224237  False      25.3  \n",
      "3     15.2  386.71  17.10  18.9  0.239982  False      21.4  \n"
     ]
    }
   ],
   "source": [
    "test_df2 = nneighbor(df_train, df_test, 2)\n",
    "print(test_df2.head(4))"
   ]
  },
  {
   "cell_type": "code",
   "execution_count": 23,
   "metadata": {},
   "outputs": [
    {
     "name": "stdout",
     "output_type": "stream",
     "text": [
      "[36.2, 22.9, 27.1, 18.9, 18.9]\n",
      "[37.299999999999997, 21.699999999999999, 25.300000000000001, 21.399999999999999, 13.6]\n"
     ]
    },
    {
     "data": {
      "text/plain": [
       "7.2552536745694098"
      ]
     },
     "execution_count": 23,
     "metadata": {},
     "output_type": "execute_result"
    }
   ],
   "source": [
    "predict_vals = test_df2.iloc[:,14].tolist()\n",
    "print(predict_vals[:5])\n",
    "actual_vals = test_df2.iloc[:,17].tolist()\n",
    "print(actual_vals[:5])\n",
    "\n",
    "compute_rmse(predict_vals, actual_vals)"
   ]
  },
  {
   "cell_type": "markdown",
   "metadata": {},
   "source": [
    "*The RMSE is better than using the model using the mean of the training data, as expected. The algorithm took 4.0 seconds to run.* "
   ]
  },
  {
   "cell_type": "markdown",
   "metadata": {},
   "source": [
    "### 3.3 Results and Normalization\n",
    "\n",
    "I never normalized the features, which is a big no-no with Nearest Neighbor algorithms. Below I write a generic normalization function that takes as input an array of values for a given feature, and returns the normalized array (subtract the mean and divide by the standard deviation)."
   ]
  },
  {
   "cell_type": "code",
   "execution_count": 24,
   "metadata": {
    "collapsed": true
   },
   "outputs": [],
   "source": [
    "\"\"\"\n",
    "# write your function specification here!\n",
    "\"\"\"\n",
    "def normalize(raw_data):\n",
    "    mean_val = np.mean(raw_data)\n",
    "    sum_sqd_vals = sum(raw_data**2)\n",
    "    n = len(raw_data)\n",
    "    std_val = (sum_sqd_vals/n)**0.5\n",
    "    normalized_data = (raw_data - mean_val)/std_val\n",
    "    return normalized_data"
   ]
  },
  {
   "cell_type": "code",
   "execution_count": 25,
   "metadata": {
    "collapsed": true
   },
   "outputs": [],
   "source": [
    "df_train['CRIM']=normalize(df_train['CRIM'])\n",
    "df_train['RM']=normalize(df_train['RM'])\n",
    "df_test['CRIM']=normalize(df_test['CRIM'])\n",
    "df_test['RM']=normalize(df_test['RM'])"
   ]
  },
  {
   "cell_type": "code",
   "execution_count": 26,
   "metadata": {},
   "outputs": [
    {
     "name": "stdout",
     "output_type": "stream",
     "text": [
      "Time taken: 3.09 seconds\n",
      "[36.2, 22.9, 27.1, 18.9, 18.9]\n",
      "[31.600000000000001, 19.399999999999999, 21.699999999999999, 24.300000000000001, 19.399999999999999]\n",
      "   index      CRIM    ZN  INDUS  CHAS    NOX        RM   AGE     DIS  RAD  \\\n",
      "0      4 -0.360850   0.0   2.18   0.0  0.458  0.138957  54.2  6.0622  3.0   \n",
      "1      6 -0.358409  12.5   7.87   0.0  0.524 -0.041040  66.6  5.5605  5.0   \n",
      "2      7 -0.351269  12.5   7.87   0.0  0.524 -0.015666  96.1  5.9505  5.0   \n",
      "3      9 -0.348034  12.5   7.87   0.0  0.524 -0.042308  85.9  6.5921  5.0   \n",
      "4     11 -0.354705  12.5   7.87   0.0  0.524 -0.041515  82.9  6.2267  5.0   \n",
      "\n",
      "     TAX  PTRATIO       B  LSTAT  MEDV      rand  train PRED_MEDV  \n",
      "0  222.0     18.7  396.90   5.33  36.2  0.065624  False      31.6  \n",
      "1  311.0     15.2  395.60  12.43  22.9  0.267174  False      19.4  \n",
      "2  311.0     15.2  396.90  19.15  27.1  0.224237  False      21.7  \n",
      "3  311.0     15.2  386.71  17.10  18.9  0.239982  False      24.3  \n",
      "4  311.0     15.2  396.90  13.27  18.9  0.045496  False      19.4  \n"
     ]
    },
    {
     "data": {
      "text/plain": [
       "7.0149965410246811"
      ]
     },
     "execution_count": 26,
     "metadata": {},
     "output_type": "execute_result"
    }
   ],
   "source": [
    "test_df3 = nneighbor(df_train, df_test, 2)\n",
    "predict_vals2 = test_df3.iloc[:,14].tolist()\n",
    "print(predict_vals2[:5])\n",
    "actual_vals2 = test_df3.iloc[:,17].tolist()\n",
    "print(actual_vals2[:5])\n",
    "\n",
    "print(test_df3.iloc[:5,:])\n",
    "compute_rmse(predict_vals2, actual_vals2)"
   ]
  },
  {
   "cell_type": "markdown",
   "metadata": {},
   "source": [
    "*The RMSE is now lower than the RMSE for the previous iteration. Normalizing helped reduce the error significantly!*"
   ]
  },
  {
   "cell_type": "markdown",
   "metadata": {},
   "source": [
    "### 3.4 Optimization\n",
    "\n",
    "Now I try to increase the performance of my nearest neighbor algorithm by adding features that might be relevant, and by using different values of L in the distance function."
   ]
  },
  {
   "cell_type": "code",
   "execution_count": 27,
   "metadata": {},
   "outputs": [
    {
     "name": "stdout",
     "output_type": "stream",
     "text": [
      "Time taken: 2.97 seconds\n",
      "[36.2, 22.9, 27.1, 18.9, 18.9]\n",
      "[31.600000000000001, 19.399999999999999, 21.699999999999999, 24.300000000000001, 24.300000000000001]\n",
      "   index      CRIM    ZN  INDUS  CHAS    NOX        RM   AGE     DIS  RAD  \\\n",
      "0      4 -0.360850   0.0   2.18   0.0  0.458  0.138957  54.2  6.0622  3.0   \n",
      "1      6 -0.358409  12.5   7.87   0.0  0.524 -0.041040  66.6  5.5605  5.0   \n",
      "2      7 -0.351269  12.5   7.87   0.0  0.524 -0.015666  96.1  5.9505  5.0   \n",
      "3      9 -0.348034  12.5   7.87   0.0  0.524 -0.042308  85.9  6.5921  5.0   \n",
      "4     11 -0.354705  12.5   7.87   0.0  0.524 -0.041515  82.9  6.2267  5.0   \n",
      "\n",
      "     TAX  PTRATIO       B  LSTAT  MEDV      rand  train PRED_MEDV  \n",
      "0  222.0     18.7  396.90   5.33  36.2  0.065624  False      31.6  \n",
      "1  311.0     15.2  395.60  12.43  22.9  0.267174  False      19.4  \n",
      "2  311.0     15.2  396.90  19.15  27.1  0.224237  False      21.7  \n",
      "3  311.0     15.2  386.71  17.10  18.9  0.239982  False      24.3  \n",
      "4  311.0     15.2  396.90  13.27  18.9  0.045496  False      24.3  \n"
     ]
    },
    {
     "data": {
      "text/plain": [
       "6.8137188602027283"
      ]
     },
     "execution_count": 27,
     "metadata": {},
     "output_type": "execute_result"
    }
   ],
   "source": [
    "# Different value of L (3 instead of 2)\n",
    "\n",
    "test_df4 = nneighbor(df_train, df_test, 4)\n",
    "predict_vals4 = test_df4.iloc[:,14].tolist()\n",
    "print(predict_vals4[:5])\n",
    "actual_vals4 = test_df4.iloc[:,17].tolist()\n",
    "print(actual_vals4[:5])\n",
    "\n",
    "print(test_df4.iloc[:5,:])\n",
    "compute_rmse(predict_vals4, actual_vals4)"
   ]
  },
  {
   "cell_type": "markdown",
   "metadata": {},
   "source": [
    "*Using a pnorm of 4 rather than 2 improves the performance of the algorithm from 7.01 to 6.81!*"
   ]
  },
  {
   "cell_type": "code",
   "execution_count": 28,
   "metadata": {},
   "outputs": [
    {
     "name": "stdout",
     "output_type": "stream",
     "text": [
      "Time taken: 3.18 seconds\n",
      "[36.2, 22.9, 27.1, 18.9, 18.9]\n",
      "[31.600000000000001, 19.399999999999999, 21.699999999999999, 24.300000000000001, 24.300000000000001]\n",
      "   index      CRIM    ZN  INDUS  CHAS    NOX        RM   AGE     DIS  RAD  \\\n",
      "0      4 -0.360850   0.0   2.18   0.0  0.458  0.138957  54.2  6.0622  3.0   \n",
      "1      6 -0.358409  12.5   7.87   0.0  0.524 -0.041040  66.6  5.5605  5.0   \n",
      "2      7 -0.351269  12.5   7.87   0.0  0.524 -0.015666  96.1  5.9505  5.0   \n",
      "3      9 -0.348034  12.5   7.87   0.0  0.524 -0.042308  85.9  6.5921  5.0   \n",
      "4     11 -0.354705  12.5   7.87   0.0  0.524 -0.041515  82.9  6.2267  5.0   \n",
      "\n",
      "     TAX  PTRATIO         B  LSTAT  MEDV      rand  train PRED_MEDV  \n",
      "0  222.0     18.7  0.126943   5.33  36.2  0.065624  False      31.6  \n",
      "1  311.0     15.2  0.123378  12.43  22.9  0.267174  False      19.4  \n",
      "2  311.0     15.2  0.126943  19.15  27.1  0.224237  False      21.7  \n",
      "3  311.0     15.2  0.098999  17.10  18.9  0.239982  False      24.3  \n",
      "4  311.0     15.2  0.126943  13.27  18.9  0.045496  False      24.3  \n"
     ]
    },
    {
     "data": {
      "text/plain": [
       "6.8137188602027283"
      ]
     },
     "execution_count": 28,
     "metadata": {},
     "output_type": "execute_result"
    }
   ],
   "source": [
    "# Include BLACK as a feature \n",
    "\n",
    "df_train['B']=normalize(df_train['B'])\n",
    "df_test['B']=normalize(df_test['B'])\n",
    "\n",
    "test_df5 = nneighbor(df_train, df_test, 4)\n",
    "predict_vals5 = test_df5.iloc[:,14].tolist()\n",
    "print(predict_vals5[:5])\n",
    "actual_vals5 = test_df5.iloc[:,17].tolist()\n",
    "print(actual_vals5[:5])\n",
    "\n",
    "print(test_df5.iloc[:5,:])\n",
    "compute_rmse(predict_vals5, actual_vals5)"
   ]
  },
  {
   "cell_type": "markdown",
   "metadata": {},
   "source": [
    "*Including BLACK as a feature has no impact on performance*"
   ]
  },
  {
   "cell_type": "markdown",
   "metadata": {},
   "source": [
    "*In conclusion, using L = 4 rather than 2 drops the RMSE to 4.94 (runs in 3.1 seconds). Adding age, B and Pt ratio (pupil-teacher) makes no difference in performance.*"
   ]
  }
 ],
 "metadata": {
  "kernelspec": {
   "display_name": "Python [default]",
   "language": "python",
   "name": "python3"
  },
  "language_info": {
   "codemirror_mode": {
    "name": "ipython",
    "version": 3
   },
   "file_extension": ".py",
   "mimetype": "text/x-python",
   "name": "python",
   "nbconvert_exporter": "python",
   "pygments_lexer": "ipython3",
   "version": "3.6.1"
  }
 },
 "nbformat": 4,
 "nbformat_minor": 1
}
